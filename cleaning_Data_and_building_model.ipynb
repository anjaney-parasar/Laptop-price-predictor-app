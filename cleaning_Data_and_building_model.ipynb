{
 "cells": [
  {
   "cell_type": "code",
   "execution_count": 1,
   "id": "1a534e6d",
   "metadata": {},
   "outputs": [],
   "source": [
    "import pandas as pd\n",
    "import numpy as np\n",
    "import re\n",
    "import warnings\n",
    "warnings.filterwarnings(\"ignore\")"
   ]
  },
  {
   "cell_type": "code",
   "execution_count": 2,
   "id": "b81f9564",
   "metadata": {},
   "outputs": [],
   "source": [
    "import matplotlib.pyplot as plt\n",
    "import seaborn as sns"
   ]
  },
  {
   "cell_type": "code",
   "execution_count": 3,
   "id": "0616dfcb",
   "metadata": {},
   "outputs": [
    {
     "data": {
      "text/html": [
       "<div>\n",
       "<style scoped>\n",
       "    .dataframe tbody tr th:only-of-type {\n",
       "        vertical-align: middle;\n",
       "    }\n",
       "\n",
       "    .dataframe tbody tr th {\n",
       "        vertical-align: top;\n",
       "    }\n",
       "\n",
       "    .dataframe thead th {\n",
       "        text-align: right;\n",
       "    }\n",
       "</style>\n",
       "<table border=\"1\" class=\"dataframe\">\n",
       "  <thead>\n",
       "    <tr style=\"text-align: right;\">\n",
       "      <th></th>\n",
       "      <th>laptop_ID</th>\n",
       "      <th>Company</th>\n",
       "      <th>Product</th>\n",
       "      <th>TypeName</th>\n",
       "      <th>Inches</th>\n",
       "      <th>ScreenResolution</th>\n",
       "      <th>Cpu</th>\n",
       "      <th>Ram</th>\n",
       "      <th>Memory</th>\n",
       "      <th>Gpu</th>\n",
       "      <th>OpSys</th>\n",
       "      <th>Weight</th>\n",
       "      <th>Price_euros</th>\n",
       "    </tr>\n",
       "  </thead>\n",
       "  <tbody>\n",
       "    <tr>\n",
       "      <th>0</th>\n",
       "      <td>1</td>\n",
       "      <td>Apple</td>\n",
       "      <td>MacBook Pro</td>\n",
       "      <td>Ultrabook</td>\n",
       "      <td>13.3</td>\n",
       "      <td>IPS Panel Retina Display 2560x1600</td>\n",
       "      <td>Intel Core i5 2.3GHz</td>\n",
       "      <td>8GB</td>\n",
       "      <td>128GB SSD</td>\n",
       "      <td>Intel Iris Plus Graphics 640</td>\n",
       "      <td>macOS</td>\n",
       "      <td>1.37kg</td>\n",
       "      <td>1339.69</td>\n",
       "    </tr>\n",
       "    <tr>\n",
       "      <th>1</th>\n",
       "      <td>2</td>\n",
       "      <td>Apple</td>\n",
       "      <td>Macbook Air</td>\n",
       "      <td>Ultrabook</td>\n",
       "      <td>13.3</td>\n",
       "      <td>1440x900</td>\n",
       "      <td>Intel Core i5 1.8GHz</td>\n",
       "      <td>8GB</td>\n",
       "      <td>128GB Flash Storage</td>\n",
       "      <td>Intel HD Graphics 6000</td>\n",
       "      <td>macOS</td>\n",
       "      <td>1.34kg</td>\n",
       "      <td>898.94</td>\n",
       "    </tr>\n",
       "    <tr>\n",
       "      <th>2</th>\n",
       "      <td>3</td>\n",
       "      <td>HP</td>\n",
       "      <td>250 G6</td>\n",
       "      <td>Notebook</td>\n",
       "      <td>15.6</td>\n",
       "      <td>Full HD 1920x1080</td>\n",
       "      <td>Intel Core i5 7200U 2.5GHz</td>\n",
       "      <td>8GB</td>\n",
       "      <td>256GB SSD</td>\n",
       "      <td>Intel HD Graphics 620</td>\n",
       "      <td>No OS</td>\n",
       "      <td>1.86kg</td>\n",
       "      <td>575.00</td>\n",
       "    </tr>\n",
       "    <tr>\n",
       "      <th>3</th>\n",
       "      <td>4</td>\n",
       "      <td>Apple</td>\n",
       "      <td>MacBook Pro</td>\n",
       "      <td>Ultrabook</td>\n",
       "      <td>15.4</td>\n",
       "      <td>IPS Panel Retina Display 2880x1800</td>\n",
       "      <td>Intel Core i7 2.7GHz</td>\n",
       "      <td>16GB</td>\n",
       "      <td>512GB SSD</td>\n",
       "      <td>AMD Radeon Pro 455</td>\n",
       "      <td>macOS</td>\n",
       "      <td>1.83kg</td>\n",
       "      <td>2537.45</td>\n",
       "    </tr>\n",
       "    <tr>\n",
       "      <th>4</th>\n",
       "      <td>5</td>\n",
       "      <td>Apple</td>\n",
       "      <td>MacBook Pro</td>\n",
       "      <td>Ultrabook</td>\n",
       "      <td>13.3</td>\n",
       "      <td>IPS Panel Retina Display 2560x1600</td>\n",
       "      <td>Intel Core i5 3.1GHz</td>\n",
       "      <td>8GB</td>\n",
       "      <td>256GB SSD</td>\n",
       "      <td>Intel Iris Plus Graphics 650</td>\n",
       "      <td>macOS</td>\n",
       "      <td>1.37kg</td>\n",
       "      <td>1803.60</td>\n",
       "    </tr>\n",
       "  </tbody>\n",
       "</table>\n",
       "</div>"
      ],
      "text/plain": [
       "   laptop_ID Company      Product   TypeName  Inches  \\\n",
       "0          1   Apple  MacBook Pro  Ultrabook    13.3   \n",
       "1          2   Apple  Macbook Air  Ultrabook    13.3   \n",
       "2          3      HP       250 G6   Notebook    15.6   \n",
       "3          4   Apple  MacBook Pro  Ultrabook    15.4   \n",
       "4          5   Apple  MacBook Pro  Ultrabook    13.3   \n",
       "\n",
       "                     ScreenResolution                         Cpu   Ram  \\\n",
       "0  IPS Panel Retina Display 2560x1600        Intel Core i5 2.3GHz   8GB   \n",
       "1                            1440x900        Intel Core i5 1.8GHz   8GB   \n",
       "2                   Full HD 1920x1080  Intel Core i5 7200U 2.5GHz   8GB   \n",
       "3  IPS Panel Retina Display 2880x1800        Intel Core i7 2.7GHz  16GB   \n",
       "4  IPS Panel Retina Display 2560x1600        Intel Core i5 3.1GHz   8GB   \n",
       "\n",
       "                Memory                           Gpu  OpSys  Weight  \\\n",
       "0            128GB SSD  Intel Iris Plus Graphics 640  macOS  1.37kg   \n",
       "1  128GB Flash Storage        Intel HD Graphics 6000  macOS  1.34kg   \n",
       "2            256GB SSD         Intel HD Graphics 620  No OS  1.86kg   \n",
       "3            512GB SSD            AMD Radeon Pro 455  macOS  1.83kg   \n",
       "4            256GB SSD  Intel Iris Plus Graphics 650  macOS  1.37kg   \n",
       "\n",
       "   Price_euros  \n",
       "0      1339.69  \n",
       "1       898.94  \n",
       "2       575.00  \n",
       "3      2537.45  \n",
       "4      1803.60  "
      ]
     },
     "execution_count": 3,
     "metadata": {},
     "output_type": "execute_result"
    }
   ],
   "source": [
    "df=pd.read_csv('laptop_price.csv',encoding='latin-1')\n",
    "df.head()"
   ]
  },
  {
   "cell_type": "markdown",
   "id": "6d1ed2a1",
   "metadata": {},
   "source": [
    "Laptop_Id is not really useful"
   ]
  },
  {
   "cell_type": "code",
   "execution_count": 4,
   "id": "6032b4c6",
   "metadata": {},
   "outputs": [],
   "source": [
    "df.drop('laptop_ID',inplace=True,axis=1)"
   ]
  },
  {
   "cell_type": "code",
   "execution_count": 5,
   "id": "9b8f44dc",
   "metadata": {},
   "outputs": [
    {
     "name": "stdout",
     "output_type": "stream",
     "text": [
      "<class 'pandas.core.frame.DataFrame'>\n",
      "RangeIndex: 1303 entries, 0 to 1302\n",
      "Data columns (total 12 columns):\n",
      " #   Column            Non-Null Count  Dtype  \n",
      "---  ------            --------------  -----  \n",
      " 0   Company           1303 non-null   object \n",
      " 1   Product           1303 non-null   object \n",
      " 2   TypeName          1303 non-null   object \n",
      " 3   Inches            1303 non-null   float64\n",
      " 4   ScreenResolution  1303 non-null   object \n",
      " 5   Cpu               1303 non-null   object \n",
      " 6   Ram               1303 non-null   object \n",
      " 7   Memory            1303 non-null   object \n",
      " 8   Gpu               1303 non-null   object \n",
      " 9   OpSys             1303 non-null   object \n",
      " 10  Weight            1303 non-null   object \n",
      " 11  Price_euros       1303 non-null   float64\n",
      "dtypes: float64(2), object(10)\n",
      "memory usage: 122.3+ KB\n"
     ]
    }
   ],
   "source": [
    "df.info()"
   ]
  },
  {
   "cell_type": "markdown",
   "id": "cf3b2b83",
   "metadata": {},
   "source": [
    "## Data Preprocessing\n",
    "1. Changing currency from euros to rupees\n",
    "2. Converting weight to int dtype.\n",
    "3. Splitting memory column into storage and type (+extra memory).\n",
    "4. Converting RAM into int dtype\n",
    "5. Splitting processor column in name and frequency.\n",
    "6. Just keeping the resolution and not the screen type(for the sake of simplicity of model).\n"
   ]
  },
  {
   "cell_type": "code",
   "execution_count": 6,
   "id": "d39c8f2d",
   "metadata": {},
   "outputs": [],
   "source": [
    "#exchange rate 1Euro=78rupee\n",
    "df['Price_rupees']=round(df['Price_euros']*56,0)\n",
    "df.drop('Price_euros',axis=1,inplace=True)\n",
    "df['Price_rupees']=df['Price_rupees'].astype(int)"
   ]
  },
  {
   "cell_type": "code",
   "execution_count": 7,
   "id": "f87d3dd3",
   "metadata": {},
   "outputs": [
    {
     "data": {
      "text/plain": [
       "62926.45126630852"
      ]
     },
     "execution_count": 7,
     "metadata": {},
     "output_type": "execute_result"
    }
   ],
   "source": [
    "df['Price_rupees'].mean()"
   ]
  },
  {
   "cell_type": "code",
   "execution_count": 8,
   "id": "426b0aa0",
   "metadata": {},
   "outputs": [],
   "source": [
    "#converting weight float dtype\n",
    "df['Weight']=df['Weight'].str.split('kg',1,expand=True)[0]\n",
    "df['Weight']=df['Weight'].astype(float)"
   ]
  },
  {
   "cell_type": "code",
   "execution_count": 9,
   "id": "560fddc9",
   "metadata": {},
   "outputs": [],
   "source": [
    "#Splitting memory column into storage and type (+extra memory).\n",
    "df[['Memory','Memory_type']] =df['Memory'].str.split(' ',1,expand=True)\n",
    "\n",
    "def getmemory(str):\n",
    "    return re.findall(r'[0-9]+', str)\n",
    "\n",
    "num=[]\n",
    "for i in range(0,len(df)):\n",
    "    num.append(df['Memory'].apply(getmemory)[i][0])\n",
    "\n",
    "df['Memory_num']=num\n",
    "df['Memory_num']=df['Memory_num'].astype(int)\n",
    "\n",
    "tborgb=[]\n",
    "for i in range(0,len(df)):\n",
    "    tborgb.append(re.findall(r'[a-zA-Z]+',df['Memory'][i])[0])\n",
    "\n",
    "df['TB']=tborgb\n",
    "\n",
    "for i in range(len(df)):\n",
    "    if df.loc[i, \"TB\"]== 'TB':\n",
    "        df.loc[i, \"Memory_num\"] = df.loc[i, \"Memory_num\"]*1000\n",
    "\n",
    "df.drop(['Memory','TB'],axis=1,inplace=True)\n",
    "\n",
    "df.rename(columns={'Memory_num':'Memory_in_GB'},inplace=True)"
   ]
  },
  {
   "cell_type": "code",
   "execution_count": 10,
   "id": "d308226a",
   "metadata": {},
   "outputs": [],
   "source": [
    "#converting RAM to int dtype\n",
    "ram=[]\n",
    "for i in range(len(df)):\n",
    "    ram.append(re.findall(r'[1-9]+',df['Ram'][i])[0])\n",
    "\n",
    "df['Ram']=ram\n",
    "df['Ram']=df['Ram'].astype(int)\n",
    "\n",
    "df.rename(columns={'Ram':'Ram_in_GB'},inplace=True)"
   ]
  },
  {
   "cell_type": "code",
   "execution_count": 11,
   "id": "d4cf9a72",
   "metadata": {},
   "outputs": [],
   "source": [
    "#Changing the screen resolution to just heightxwidth for sake of simplicity\n",
    "scrres=[]\n",
    "for i in range(len(df)):\n",
    "    scrres.append(df.ScreenResolution.str.split(' ')[i][-1])\n",
    "\n",
    "df['ScreenResolution']=scrres"
   ]
  },
  {
   "cell_type": "code",
   "execution_count": 12,
   "id": "b21e565d",
   "metadata": {},
   "outputs": [],
   "source": [
    "#Changing the Cpu name to just the company name\n",
    "cpu=[]\n",
    "for i in range(len(df)):\n",
    "    cpu.append(df.Cpu.str.split(' ')[i][0])\n",
    "\n",
    "df['Cpu']=cpu"
   ]
  },
  {
   "cell_type": "code",
   "execution_count": 13,
   "id": "8016bf30",
   "metadata": {},
   "outputs": [],
   "source": [
    "#Keeping just the company name for Gpu\n",
    "df.Gpu=df.Gpu.str.split(' ',2,expand=True)[0]+' '+df.Gpu.str.split(' ',2,expand=True)[1]"
   ]
  },
  {
   "cell_type": "code",
   "execution_count": 14,
   "id": "a0ac6c25",
   "metadata": {},
   "outputs": [],
   "source": [
    "#Summing up opsys\n",
    "def get_os(a):\n",
    "    if a=='Windows 10'or a=='Windows 10 S'or a=='Windows 7':\n",
    "        return 'Windows'\n",
    "    elif a=='macOS'or a=='Mac OS X':\n",
    "        return 'Mac'\n",
    "    else:\n",
    "        return 'Others/No OS/Linux'\n",
    "    \n",
    "df['OpSys']=df['OpSys'].apply(get_os) "
   ]
  },
  {
   "cell_type": "code",
   "execution_count": 15,
   "id": "d29b8e09",
   "metadata": {
    "scrolled": true
   },
   "outputs": [
    {
     "data": {
      "text/plain": [
       "Company\n",
       "Acer          55\n",
       "Apple          4\n",
       "Asus         127\n",
       "Chuwi          3\n",
       "Dell          62\n",
       "Fujitsu        3\n",
       "Google         1\n",
       "HP           122\n",
       "Huawei         1\n",
       "LG             3\n",
       "Lenovo       138\n",
       "MSI           47\n",
       "Mediacom       6\n",
       "Microsoft      1\n",
       "Razer          2\n",
       "Samsung        4\n",
       "Toshiba       36\n",
       "Vero           4\n",
       "Xiaomi         1\n",
       "Name: Product, dtype: int64"
      ]
     },
     "execution_count": 15,
     "metadata": {},
     "output_type": "execute_result"
    }
   ],
   "source": [
    "#number of unique models under each brand name\n",
    "df.groupby('Company')['Product'].nunique()"
   ]
  },
  {
   "cell_type": "code",
   "execution_count": 16,
   "id": "00aee447",
   "metadata": {},
   "outputs": [],
   "source": [
    "#Creating a 'Others' for company and product by taking a random sample of df \n",
    "#and renaming rows for company and product as others\n",
    "others=df.sample(frac=0.2,random_state=2,ignore_index=True)\n",
    "others[['Company','Product','OpSys']]='Others'\n",
    "df_final=pd.concat([df,others],ignore_index=True)\n",
    "\n",
    "df_final=df_final.sample(frac=1,random_state=2).reset_index(drop=True)"
   ]
  },
  {
   "cell_type": "code",
   "execution_count": 17,
   "id": "1871970a",
   "metadata": {},
   "outputs": [],
   "source": [
    "df_final.drop('Product',axis=1,inplace=True)"
   ]
  },
  {
   "cell_type": "code",
   "execution_count": 18,
   "id": "bd6d22a2",
   "metadata": {},
   "outputs": [
    {
     "data": {
      "text/html": [
       "<div>\n",
       "<style scoped>\n",
       "    .dataframe tbody tr th:only-of-type {\n",
       "        vertical-align: middle;\n",
       "    }\n",
       "\n",
       "    .dataframe tbody tr th {\n",
       "        vertical-align: top;\n",
       "    }\n",
       "\n",
       "    .dataframe thead th {\n",
       "        text-align: right;\n",
       "    }\n",
       "</style>\n",
       "<table border=\"1\" class=\"dataframe\">\n",
       "  <thead>\n",
       "    <tr style=\"text-align: right;\">\n",
       "      <th></th>\n",
       "      <th>Company</th>\n",
       "      <th>TypeName</th>\n",
       "      <th>Inches</th>\n",
       "      <th>ScreenResolution</th>\n",
       "      <th>Cpu</th>\n",
       "      <th>Ram_in_GB</th>\n",
       "      <th>Gpu</th>\n",
       "      <th>OpSys</th>\n",
       "      <th>Weight</th>\n",
       "      <th>Price_rupees</th>\n",
       "      <th>Memory_type</th>\n",
       "      <th>Memory_in_GB</th>\n",
       "    </tr>\n",
       "  </thead>\n",
       "  <tbody>\n",
       "    <tr>\n",
       "      <th>0</th>\n",
       "      <td>HP</td>\n",
       "      <td>Workstation</td>\n",
       "      <td>15.6</td>\n",
       "      <td>1920x1080</td>\n",
       "      <td>Intel</td>\n",
       "      <td>8</td>\n",
       "      <td>Nvidia Quadro</td>\n",
       "      <td>Windows</td>\n",
       "      <td>2.59</td>\n",
       "      <td>124824</td>\n",
       "      <td>SSD</td>\n",
       "      <td>256</td>\n",
       "    </tr>\n",
       "    <tr>\n",
       "      <th>1</th>\n",
       "      <td>Dell</td>\n",
       "      <td>Notebook</td>\n",
       "      <td>15.6</td>\n",
       "      <td>1366x768</td>\n",
       "      <td>Intel</td>\n",
       "      <td>8</td>\n",
       "      <td>Intel HD</td>\n",
       "      <td>Windows</td>\n",
       "      <td>2.14</td>\n",
       "      <td>30237</td>\n",
       "      <td>HDD</td>\n",
       "      <td>1000</td>\n",
       "    </tr>\n",
       "    <tr>\n",
       "      <th>2</th>\n",
       "      <td>Lenovo</td>\n",
       "      <td>Notebook</td>\n",
       "      <td>15.6</td>\n",
       "      <td>1920x1080</td>\n",
       "      <td>Intel</td>\n",
       "      <td>8</td>\n",
       "      <td>Intel HD</td>\n",
       "      <td>Others/No OS/Linux</td>\n",
       "      <td>2.30</td>\n",
       "      <td>32088</td>\n",
       "      <td>SSD</td>\n",
       "      <td>256</td>\n",
       "    </tr>\n",
       "    <tr>\n",
       "      <th>3</th>\n",
       "      <td>Lenovo</td>\n",
       "      <td>Notebook</td>\n",
       "      <td>15.6</td>\n",
       "      <td>1920x1080</td>\n",
       "      <td>Intel</td>\n",
       "      <td>8</td>\n",
       "      <td>Nvidia Quadro</td>\n",
       "      <td>Windows</td>\n",
       "      <td>2.67</td>\n",
       "      <td>117040</td>\n",
       "      <td>SSD</td>\n",
       "      <td>256</td>\n",
       "    </tr>\n",
       "    <tr>\n",
       "      <th>4</th>\n",
       "      <td>MSI</td>\n",
       "      <td>Gaming</td>\n",
       "      <td>15.6</td>\n",
       "      <td>1920x1080</td>\n",
       "      <td>Intel</td>\n",
       "      <td>8</td>\n",
       "      <td>Nvidia GeForce</td>\n",
       "      <td>Windows</td>\n",
       "      <td>2.20</td>\n",
       "      <td>57553</td>\n",
       "      <td>SSD</td>\n",
       "      <td>256</td>\n",
       "    </tr>\n",
       "  </tbody>\n",
       "</table>\n",
       "</div>"
      ],
      "text/plain": [
       "  Company     TypeName  Inches ScreenResolution    Cpu  Ram_in_GB  \\\n",
       "0      HP  Workstation    15.6        1920x1080  Intel          8   \n",
       "1    Dell     Notebook    15.6         1366x768  Intel          8   \n",
       "2  Lenovo     Notebook    15.6        1920x1080  Intel          8   \n",
       "3  Lenovo     Notebook    15.6        1920x1080  Intel          8   \n",
       "4     MSI       Gaming    15.6        1920x1080  Intel          8   \n",
       "\n",
       "              Gpu               OpSys  Weight  Price_rupees Memory_type  \\\n",
       "0   Nvidia Quadro             Windows    2.59        124824         SSD   \n",
       "1        Intel HD             Windows    2.14         30237         HDD   \n",
       "2        Intel HD  Others/No OS/Linux    2.30         32088         SSD   \n",
       "3   Nvidia Quadro             Windows    2.67        117040         SSD   \n",
       "4  Nvidia GeForce             Windows    2.20         57553         SSD   \n",
       "\n",
       "   Memory_in_GB  \n",
       "0           256  \n",
       "1          1000  \n",
       "2           256  \n",
       "3           256  \n",
       "4           256  "
      ]
     },
     "execution_count": 18,
     "metadata": {},
     "output_type": "execute_result"
    }
   ],
   "source": [
    "df_final.head()"
   ]
  },
  {
   "cell_type": "code",
   "execution_count": 35,
   "id": "f05be93e",
   "metadata": {},
   "outputs": [
    {
     "name": "stdout",
     "output_type": "stream",
     "text": [
      "unique values in column Company\n",
      "['Apple', 'HP', 'Acer', 'Asus', 'Dell', 'Lenovo', 'Chuwi', 'MSI', 'Microsoft', 'Toshiba', 'Huawei', 'Xiaomi', 'Vero', 'Razer', 'Mediacom', 'Samsung', 'Google', 'Fujitsu', 'LG']\n",
      "--------------------------------------------------\n",
      "unique values in column Product\n",
      "['MacBook Pro', 'Macbook Air', '250 G6', 'Aspire 3', 'ZenBook UX430UN', 'Swift 3', 'Inspiron 3567', 'MacBook 12\"', 'IdeaPad 320-15IKB', 'XPS 13', 'Vivobook E200HA', 'Legion Y520-15IKBN', '255 G6', 'Inspiron 5379', '15-BS101nv (i7-8550U/8GB/256GB/FHD/W10)', 'MacBook Air', 'Inspiron 5570', 'Latitude 5590', 'ProBook 470', 'LapBook 15.6\"', 'E402WA-GA010T (E2-6110/2GB/32GB/W10)', '17-ak001nv (A6-9220/4GB/500GB/Radeon', 'IdeaPad 120S-14IAP', 'Inspiron 5770', 'ProBook 450', 'X540UA-DM186 (i3-6006U/4GB/1TB/FHD/Linux)', 'Inspiron 7577', 'X542UQ-GO005 (i5-7200U/8GB/1TB/GeForce', 'Aspire A515-51G', 'Inspiron 7773', 'IdeaPad 320-15ISK', 'Rog Strix', 'X751NV-TY001T (N4200/4GB/1TB/GeForce', 'Yoga Book', 'ProBook 430', 'Inspiron 3576', '15-bs002nv (i3-6006U/4GB/128GB/FHD/W10)', 'VivoBook Max', 'GS73VR 7RG', 'X541UA-DM1897 (i3-6006U/4GB/256GB/FHD/Linux)', 'Vostro 5471', 'IdeaPad 520S-14IKB', 'UX410UA-GV350T (i5-8250U/8GB/256GB/FHD/W10)', 'ZenBook Pro', 'Stream 14-AX040wm', 'V310-15ISK (i5-7200U/4GB/1TB/FHD/W10)', 'FX753VE-GC093 (i7-7700HQ/12GB/1TB/GeForce', 'Surface Laptop', 'Inspiron 5370', 'GL72M 7RDX', 'Aspire E5-475', 'FX503VD-E4022T (i7-7700HQ/8GB/1TB/GeForce', 'IdeaPad 320-15IKBN', 'Aspire A515-51G-32MX', 'ProBook 440', 'IdeaPad 320-15AST', 'Pavilion 15-CK000nv', 'FX503VM-E4007T (i7-7700HQ/16GB/1TB', 'FX550IK-DM018T (FX-9830P/8GB/1TB/Radeon', 'Aspire 5', 'Probook 430', 'Zenbook UX430UA', 'Spin 5', 'X541UV-DM1439T (i3-7100U/6GB/256GB/GeForce', 'Omen 15-ce007nv', '15-bs017nv (i7-7500U/8GB/256GB/Radeon', '15-bw000nv (E2-9000e/4GB/500GB/Radeon', 'Envy 13-ad009n', 'Pavilion 14-BK001nv', 'Ideapad 310-15ISK', 'UX430UQ-GV209R (i7-7500U/8GB/256GB/GeForce', 'GP62M 7REX', 'Thinkpad T470', 'VivoBook S15', 'ThinkPad Yoga', 'Probook 440', 'Spectre x360', 'Inspiron 7570', 'X705UV-BX074T (i3-6006U/4GB/1TB/GeForce', 'Spin 3', 'GS63VR 7RG', 'Probook 470', 'E402WA-GA007T (E2-6110/4GB/64GB/W10', 'Inspiron 5567', 'Aspire A515-51G-37JS', '15-BS078nr (i7-7500U/8GB/1TB/W10)', 'V110-15IAP (N3350/4GB/1TB/No', 'FX753VD-GC086T (i5-7300HQ/8GB/1TB', 'Envy 13-AD007nv', 'ThinkPad E480', 'Satellite Pro', 'ZenBook UX430UA', 'EliteBook Folio', 'X541NA (N3350/4GB/1TB/FHD/W10)', 'GE72MVR 7RG', 'Aspire A315-51', 'Inspiron 5577', 'Inspiron 7567', 'V110-15IKB (i5-7200U/4GB/128GB/W10)', 'GE73VR 7RE', 'EliteBook 840', '15-BS103nv (i5-8250U/6GB/256GB/Radeon', 'Yoga 520-14IKB', 'ZenBook Flip', 'Inspiron 5579', 'X555BP-XX180T (A9-9420/4GB/1TB/Radeon', 'Aspire A517-51G', 'Aspire A315-31', 'GE63VR 7RE', 'MateBook X', '17-bs001nv (i5-7200U/6GB/2TB/Radeon', 'GT80S 6QF-074US', 'V310-15IKB (i5-7200U/8GB/1TB', 'Yoga 920-13IKB', 'Mi Notebook', 'XPS 15', 'Swift 7', 'Thinkpad Yoga', 'K147 (N3350/4GB/32GB/FHD/W10)', 'IdeaPad 320-17IKBR', 'Blade Pro', 'Omen 17-W295', 'V110-15ISK (i5-6200U/4GB/128GB/W10)', 'Aspire E5-576G', 'Legion Y720-15IKB', 'Precision 7520', 'Aspire 7', 'ROG GL703VD-GC028T', '15-bs018nq (i3-6006U/4GB/500GB/FHD/No', 'IdeaPad 320-17IKB', 'Latitude 5490', 'Portege Z30-C-16L', 'Alienware 17', 'Vivobook X541UV-DM1217T', 'K756UX-T4340T (i5-7200U/8GB/500GB', 'ZBook 15u', 'Pro P2540UA-XO0198T', '15-rb013nv (E2-9000e/4GB/500GB/W10)', 'Vostro 5468', 'Aspire R7', 'X555QG-DM242T (A10-9620P/4GB/1TB', 'ROG G703VI-E5062T', 'Nitro AN515-51', 'VivoBook Pro', 'F756UX-T4201D (i7-7500U/8GB/128GB', 'Yoga 910-13IKB', '15-bs015dx (i5-7200U/8GB/1TB/W10)', 'Rog G701VIK-BA060T', 'ROG G752VSK-GC493T', 'X505BP-BR019T (A9-9420/4GB/1TB/Radeon', 'Vostro 5370', '15-BW094nd (A6-9220/8GB/128GB/W10)', 'Envy 17-U275cl', 'GT73EVR 7RE', 'Yoga 720-15IKB', 'Vostro 3568', 'V330-15IKB (i7-8550U/8GB/256GB/FHD/W10)', 'ThinkPad X1', 'IdeaPad 320-17ISK', 'Ideapad 320-15IKBN', 'SP315-51 (i7-7500U/12GB/1TB/FHD/W10)', 'Thinkpad T570', 'Chromebook C910-C2ST', 'FX753VD-GC071T (i7-7700HQ/8GB/1TB/GeForce', '17-BS037cl (i3-6006U/8GB/1TB/W10)', 'V330-15IKB (i5-8250U/8GB/256GB/FHD/W10)', 'Aspire A715-71G', 'Precision 7720', 'IdeaPad 310-15ABR', 'ZenBook UX530UQ-PRO', 'VivoBook S14', 'Rog GL702VS-GC095T', 'GL553VE-FY082T (i7-7700HQ/8GB/1TB', 'IdeaPad 320-15IAP', 'EliteBook x360', 'IdeaPad 720S-13IKB', 'GE63VR 7RF', 'ES1-523-84K7 (A8-7410/8GB/256GB/FHD/W10)', 'VivoBook Flip', 'ThinkPad 13', 'ProBook 640', 'TravelMate B', 'Elitebook 840', 'ZenBook UX410UA-GV183T', 'Aspire E5-575', 'Elitebook 820', 'GL72M 7REX', 'UX510UX-CN269T (i7-7500U/8GB/256GB', 'V310-15ISK (i3-6006U/4GB/1TB/FHD/W10)', 'FX553VD-FY647T (i7-7700HQ/8GB/256GB/GeForce', 'Elitebook 850', 'X541NA (N3350/4GB/1TB/Linux)', 'Inspiron 3552', 'IdeaPad 320-15ABR', 'Stream 14-AX001nv', 'GP72MVR 7RFX', 'Zbook 15', 'Tecra A50-C-21G', 'Latitude 7480', 'Zenbook UX410UA-GV027T', '15-AY023na (N3710/8GB/2TB/W10)', 'Elitebook 1040', 'IdeaPad 110-17ACL', '15-bw003nv (A9-Series-9420/4GB/256GB/FHD/W10)', 'Yoga 11e', 'VivoBook E403NA', 'Omen 17-w212nv', 'V310-15ISK (i3-6006U/4GB/128GB/FHD/No', 'ROG Strix', 'IdeaPad 720S-14IKB', 'Zenbook Flip', 'Thinkpad X1', 'Ideapad 510S-13IKB', 'Precision 3510', 'Precision 5520', 'Rog GL753VD-GC042T', 'Rog GL753VE-GC070T', 'Leopard GP72M', '15-BW004nv (A9-9420/4GB/256GB/Radeon', 'ThinkPad E580', 'ThinkPad L470', 'Precision M5520', 'FX753VD-GC461T (i7-7700HQ/16GB/1TB', 'GE73VR 7RF', 'Zenbook 3', 'Portege Z30-C-16P', 'Lenovo IdeaPad', 'ThinkPad P51', 'Thinkpad T470p', '15-BS028nv (i3-6006U/4GB/1TB/Radeon', 'Latitude 3380', 'EliteBook 1040', 'LapBook 12.3', 'ProBook 650', 'X542UQ-DM117 (i3-7100U/8GB/1TB/GeForce', 'Latitude 5480', 'Omen 17-w207nv', 'FlexBook Edge', 'Chromebook 3', 'Thinkpad 13', 'IdeaPad 320s-14IKB', 'Thinkpad P51', '15-ra044nv (N3060/4GB/500GB/W10)', 'Pixelbook (Core', 'ThinkPad T470s', 'ThinkPad X270', 'Omen 15-AX205na', 'Aspire ES1-572', 'Precision 3520', 'GV62 7RD-1686NL', '15-bs024nv (i5-7200U/8GB/128GB/W10)', 'ThinkPad T470', 'Inspiron 3168', '17-BS092ND (i3-6006U/8GB/256GB/W10)', 'Pro P2540UA-AB51', 'IdeaPad 510s-14IKB', 'X541NA-PD1003Y (N4200/4GB/500GB/W10)', 'Omen 17-an006nv', 'Thinkpad T460s', 'Latitude 7390', 'Latitude E5470', 'Portege X30-D-10J', 'Lapbook 15,6', 'ThinkPad E570', 'Thinkpad X270', 'Zenbook UX390UA', 'Thinkpad E570', 'Portege X30-D-10L', 'Rog G752VL-UH71T', 'Thinkpad X260', 'Ideapad 520-15IKBR', 'ThinkPad L570', 'VivoBook E201NA', '15-BS026nv (i5-7200U/8GB/256GB/Radeon', 'IdeaPad 320-14IAP', 'Chromebook N23', 'ZenBook UX510UX-CN211T', 'Aspire A515-51G-59QF', 'Envy 13-AB002nv', 'Vostro 5568', 'VivoBook E12', '15-bs190od (i5-8250U/4GB/1TB/W10)', 'ROG Zephyrus', 'Probook 450', 'FX753VE-GC155T (i7-7700HQ/16GB/1TB', 'Spectre X360', 'Latitude 5580', 'Zenbook UX510UW-FI095T', 'SmartBook Edge', 'Omen 15-ce006nv', 'Thinkpad E470', 'Envy 13-AB020nr', 'VivoBook X540YA-XX519T', 'ThinkPad E470', 'V310-15ISK (i5-6200U/4GB/1TB/FHD/No', 'ThinkPad T570', '17-X047na (i3-6006U/8GB/1TB/W10)', 'A541NA-GO342 (N3350/4GB/500GB/Linux)', 'SmartBook 130', '15-bw007nv (A10-9620P/6GB/128GB/Radeon', 'Spin SP111-31', 'V330-15IKB (i3-7130U/4GB/128GB/FHD/W10)', 'EliteBook 1030', 'Thinkpad P71', 'FX553VD-DM627T (i5-7300HQ/8GB/1TB', 'Lifebook A557', 'ZBook 17', '14-am079na (N3710/8GB/2TB/W10)', '15-cd005nv (A9-9420/6GB/256GB/Radeon', 'V330-15IKB (i5-8250U/4GB/500GB/FHD/W10)', 'SmartBook 141', 'Tecra X40-D-10H', 'IdeaPad Y910-17ISK', 'GT73VR Titan', 'Chromebook 11', 'GT80S 6QE', 'Omen 17-AN010nv', 'Ideapad 320-15IKBR', 'TP501UA-CJ131T (i5-7200U/8GB/1TB/W10)', 'Inspiron 3179', 'Notebook Odyssey', 'V320-17ISK (i3-6006U/4GB/500GB/FHD/No', 'IdeaPad 110-15ISK', 'Latitude 5289', 'EliteBook 850', 'Aspire 1', 'Laptop MSI', 'GS63VR 7RF', 'Tecra Z50-C-144', 'IdeaPad 310-15IKB', 'Swift SF114-31-P5HY', 'Inspiron 7559', 'FX753VD-GC007T (i7-7700HQ/8GB/1TB', 'GT62VR 7RE', 'CB5-132T-C9KK (N3160/4GB/32GB/Chrome', 'LifeBook A557', 'SmartBook 140', 'Q304UA-BHI5T11 (i5-7200U/6GB/1TB/FHD/W10)', 'ZenBook 3', 'V330-15IKB (i5-8250U/4GB/256GB/FHD/W10)', 'Ideapad 320-15ISK', 'X541NA-GO414T (N3350/8GB/1TB/W10)', 'IdeaPad 100S-14IBR', '17-AK091ND (A9-9420/8GB/1TB/W10)', 'ROG GL553VE-FY022', 'Extensa EX2540', 'Portege Z30-C-16J', 'ROG G701VI', 'A715-71G-59DH (i5-7300HQ/8GB/1TB/GeForce', 'GL62M 7REX', 'Tecra A50-D-11M', 'IdeaPad Y700-15ISK', 'Latitude E7470', 'Ideapad 320-15IAP', '15-ay047nv (i3-6006U/6GB/1TB/Radeon', 'GP72VR Leopard', 'Latitude 3580', '15-bs012nv (i7-7500U/8GB/1TB/Radeon', 'Tecra Z50-D-10E', 'V310-15ISK (i5-7200U/8GB/1TB', 'Yoga 720-13IKB', 'Pavilion X360', 'GP62 7RDX', 'Chromebook X360', 'Gram 15Z975', 'Aspire VX5-591G', 'GV62M 7RD', 'L502NA-GO052T (N3350/4GB/128GB/W10)', 'Alienware 15', '17-bs000nv I3', 'Yoga 730', '17-Y002nv (A10-9600P/6GB/2TB/Radeon', 'V110-15ISK (3855U/4GB/500GB/W10)', 'Chromebook 14', 'IdeaPad 520s-14IKB', 'TravelMate B117-M', 'Chromebook Flip', 'Portege Z30T-C-133', '15-bs011nv (i7-7500U/4GB/500GB/Radeon', 'V310-15IKB (i5-7200U/4GB/1TB/FHD/W10)', 'V310-15ISK (i3-6006U/4GB/500GB/No', 'ThinkPad P51s', 'Thinkpad T460p', '17-ak002nv (A10-9620P/6GB/2TB/Radeon', '110-15ACL (A6-7310/4GB/500GB/W10)', 'Smartbook 142', 'V310-15IKB (i5-7200U/4GB/1TB/No', 'Inspiron 5378', '15-BW037na (A9-9420/4GB/1TB/Radeon', 'Predator 17', '15-BW091ND (A9-9420/6GB/1TB', 'Extensa EX2540-58KR', 'V310-15IKB (i7-7500U/4GB/1TB/FHD/W10)', 'ZBook 15', 'Inspiron 7560', 'Tecra X40-D-10G', 'Flex 5', 'Thinkpad P51s', 'Notebook 9', 'Zbook 17', 'N23 (N3060/4GB/128GB/W10)', 'X550VX-XX015D (i5-6300HQ/4GB/1TB/GeForce', 'Thinkpad T460', 'Pro P2540UA-XO0192R', 'Yoga 900-13ISK', '15-cb003na (i5-7300HQ/8GB/1TB', 'Latitude 7280', 'Zenbook UX330UA-AH5Q', 'TravelMate P238-M', 'X751NV-TY001 (N4200/4GB/1TB/GeForce', 'Tecra A40-C-1E5', 'EliteBook 820', 'Q524UQ-BHI7T15 (i7-7500U/12GB/2TB/GeForce', 'Thinkpad P50', 'Vivobook Max', 'Rog G752VS-BA171T', 'Tecra Z40-C-161', 'IdeaPad 110-15IBR', 'GS43VR 7RE', 'GL62M (i5-7300HQ/8GB/1TB', 'Predator G9-793', 'FX502VM-DM560T (i7-7700HQ/8GB/1TB', 'K146 (N3350/4GB/32GB/W10)', 'Yoga 510-15IKB', 'R417NA-RS01 (N3350/4GB/32GB/W10)', 'Pro P2540UA-XS51', 'Latitude 3180', '15-ba043na (A12-9700P/8GB/2TB/W10)', 'Omen 17-an012dx', 'Thinkpad T470s', 'Blade Stealth', 'Latitude 3480', 'V110-15ISK (i3-6006U/4GB/500GB/W10)', 'Tecra X40-D-10Z', 'GL62M 7RD', 'Rog GL702VS-BA023T', 'N42-20 Chromebook', 'R558UA-DM966T (i5-7200U/8GB/128GB/FHD/W10)', 'Rog GL702VM-GC017T', 'ZenBook UX310UQ-GL026T', 'Rog GL502VM-DS74', 'Inspiron 5767', 'ThinkPad T470p', 'K556UR-DM621T (i7-7500U/8GB/256GB/GeForce', 'X541NA (N4200/4GB/1TB/W10)', 'Inspiron 5368', 'Portege X30-D-10X', 'Portégé Z30-C-188', 'TMX349-G2-M-50FS (i5-7200U/8GB/256GB/FHD/W10)', 'Tecra A50-D-11D', 'X541NA-GO121 (N4200/4GB/1TB/Linux)', 'Pavilion x360', 'VivoBook L402NA', 'IdeaPad 510-15ISK', 'Rog GL753VD-GC082T', 'Chromebook C731-C78G', 'Probook 640', 'Envy x360', 'GS73VR Stealth', 'Portege X30-D-10V', 'G701VO-IH74K (i7-6820HK/32GB/2x', 'Gram 15Z970', 'Chromebook CB5-571-C1DZ', 'Gram 14Z970', 'Elitebook Folio', 'IdeaPad 510-15IKB', 'GE72VR 6RF', 'Envy 13-AB077cl', 'Tecra Z50-C-140', 'Probook 650', 'Tecra Z40-C-12X', 'GP62M Leopard', 'Omen 17-W006na', 'X751SV-TY001T (N3710/4GB/1TB/GeForce', 'TravelMate P259-G2', 'Tecra A50-C-1ZV', 'Yoga 700-11ISK', 'IdeaPad Y700-15ACZ', 'Insprion 5767', 'ZBook Studio', 'Portege Z30-C-1CW', 'ProBook x360', 'Chromebook C738T-C2EJ', 'Portege Z30-C-16Z', 'Aspire F5-573G-510L', 'Portege X20W-D-10V', 'Tecra A40-C-1DF', 'ThinkPad T460', 'Q534UX-BHI7T19 (i7-7500U/16GB/2TB', '15-bs053od (i7-7500U/6GB/1TB/W10)', 'Rog GL753VE-DS74', 'Inspiron 7579', 'Portege Z30-C-1CV', 'LifeBook A556', 'Tecra A40-C-1KF', '15-bs005nv (i3-6006U/4GB/1TB', 'V110-15IAP (N3350/4GB/128GB/No', 'ThinkPad T560', 'ZenBook UX310UA-FB485T', 'Spectre 13-V111dx', 'Aspire ES1-533', 'Rog GL553VE-DS74', 'Nitro 5', 'ENVY -', 'Portege Z30-C-16H', 'Portege A30-C-1CZ', 'ThinkPad P70', 'Tecra Z40-C-12Z', 'Inspiron 5568', 'Portégé Z30-C-16K', 'Spectre 13-V100nv', 'Latitude E5570', 'Tecra Z40-C-136', 'Yoga 500-15ISK', 'V142 (X5-Z8350/2GB/32GB/W10)', 'Tecra A50-C-218', 'Thinkpad L560', 'GT72S Dominator', 'IdeaPad Y900-17ISK', 'Chromebook C202SA', 'Noteb Pav', 'Inspiron 5578', '250 G5', 'Aspire ES1-523', 'Inspiron 7378', 'GT62VR 6RD', 'Rog G752VL-GC088D', 'GS63VR 6RF', 'ROG G701VO', 'Latitude 3570', 'IdeaPad 300-17ISK', 'Ideapad 700-15ISK', 'GT72VR Dominator', 'V110-15ISK (i5-6200U/4GB/500GB/W10)', 'Yoga 900S-12ISK', 'Chromebook 13', 'Rog GL702VM-GC354T', 'Aspire F5-573G', 'GS70 Stealth', 'G752VY-GC162T (i7-6700HQ/16GB/1TB', 'Latitude E5270', 'Chromebook 15', 'GE72 Apache', '15-bw011nv (A6-9220/4GB/1TB/FHD/W10)', 'Rog GL552VW-CN470T', 'Vostro 3559', 'V110-15ISK (i3-6006U/4GB/128GB/W10)', 'Spectre Pro', 'Portege X30-D-10K', 'Rog GL752VW-T4308T', 'V131 (X5-Z8350/4GB/32GB/FHD/W10)', 'Omen -', '15-bs078cl (i7-7500U/8GB/2TB/W10)', 'ThinkPad P40', 'L403NA-GA013TS (N3350/4GB/32GB/W10)', 'IdeaPad 500-15ISK', 'GP62M 7RDX', 'V110-15ISK (i3-6006U/4GB/1TB/No', '15-BA015wm (E2-7110/4GB/500GB/W10)', 'B51-80 (i5-6200U/8GB/1TB/Radeon', '15-bw002nv (A6-9220/4GB/256GB/Radeon', 'GP72M 7REX', 'ThinkPad T460s', 'B51-80 (i5-6200U/8GB/1008GB/Radeon', 'GS40 Phantom', 'Pavilion 15-cb003nv', 'IdeaPad 310-15ISK', '250 G4', '320-15ISK (i3-6006U/4GB/1TB/GeForce', 'Stream 14-AX000nv', 'PL60 7RD', 'X553SA-XX021T (N3050/4GB/500GB/W10)', 'V110-15ISK (i5-6200U/4GB/500GB/No', 'UX410UA-GV097T (i3-7100U/4GB/256GB/FHD/W10)', 'B51-80 (i7-6500U/4GB/1008GB/FHD/W7)', 'GS60 Ghost', 'Pavilion 15-BC000nv', 'Rog GL552VW-DM201T', 'Chromebook Plus', 'Pavilion Power', 'V110-15ISK (i3-6006U/4GB/1TB/Radeon', 'Rog G752VY-GC229T', 'GS73VR 7RF', 'FX502VM-DM105T (i7-6700HQ/8GB/1TB/GeForce', '15-bs025nv (i5-7200U/8GB/256GB/W10)', 'Aspire E5-774G', 'FX502VM-AS73 (i7-7700HQ/16GB/1TB', 'C740-C9QX (3205U/2GB/32GB/Chrome', 'E5 774G', 'SP714-51 (i7-7Y75/8GB/256GB/FHD/W10)', 'Thinkpad T560', 'GP62MVR 6RF', '15-bw009nv (A12-9720P/6GB/1TB/Radeon', 'Latitude E7270', 'X540SA-RBPDN09 (N3710/4GB/1TB/W10)', 'GL62M 7RDX', 'GE72VR Apache', '15-bs023nv (i3-6006U/4GB/1TB/FHD/W10)', 'GL62 6QF', 'ZenBook UX310UA-WB71', 'Inspiron 7779', 'Rog GL553VE-FY052T', 'Rog GL502VS', 'V510-15IKB (i5-7200U/8GB/256GB/FHD/No', 'ThinkPad L460', 'X541NA-GO020T (N3350/4GB/1TB/W10)', 'Rog G752VT-GC073T', 'B51-80 (i7-6500U/8GB/1008GB/Radeon', 'GE62 Apache', 'Yoga 500-14IBD', 'ZenBook UX305CA-UBM1', 'Aspire ES1-531', 'Pavilion 15-AW003nv', 'Stream 11-Y000na', 'X556UJ-XO044T (i7-6500U/4GB/500GB/GeForce', 'Yoga 500-14ISK', '15-AC110nv (i7-6500U/6GB/1TB/Radeon', 'X553SA-XX031T (N3050/4GB/500GB/W10)']\n",
      "--------------------------------------------------\n",
      "unique values in column TypeName\n",
      "['Ultrabook', 'Notebook', 'Netbook', 'Gaming', '2 in 1 Convertible', 'Workstation']\n",
      "--------------------------------------------------\n",
      "unique values in column Inches\n",
      "[13.3, 15.6, 15.4, 14.0, 12.0, 11.6, 17.3, 10.1, 13.5, 12.5, 13.0, 18.4, 13.9, 12.3, 17.0, 15.0, 14.1, 11.3]\n",
      "--------------------------------------------------\n",
      "unique values in column ScreenResolution\n",
      "['2560x1600', '1440x900', '1920x1080', '2880x1800', '1366x768', '2304x1440', '3200x1800', '1920x1200', '2256x1504', '3840x2160', '2160x1440', '2560x1440', '1600x900', '2736x1824', '2400x1600']\n",
      "--------------------------------------------------\n",
      "unique values in column Cpu\n",
      "['Intel', 'AMD', 'Samsung']\n",
      "--------------------------------------------------\n",
      "unique values in column Ram_in_GB\n",
      "[8, 16, 4, 2, 12, 6, 32, 24, 64]\n",
      "--------------------------------------------------\n",
      "unique values in column Gpu\n",
      "['Intel Iris', 'Intel HD', 'AMD Radeon', 'Nvidia GeForce', 'Intel UHD', 'AMD R4', 'Nvidia GTX', 'AMD R17M-M1-70', 'Nvidia Quadro', 'AMD FirePro', 'Intel Graphics', 'ARM Mali']\n",
      "--------------------------------------------------\n",
      "unique values in column OpSys\n",
      "['Mac', 'Others/No OS/Linux', 'Windows']\n",
      "--------------------------------------------------\n",
      "unique values in column Weight\n",
      "[1.37, 1.34, 1.86, 1.83, 2.1, 2.04, 1.3, 1.6, 2.2, 0.92, 1.22, 0.98, 2.5, 1.62, 1.91, 2.3, 1.35, 1.88, 1.89, 1.65, 2.71, 1.2, 1.44, 2.8, 2.0, 2.65, 2.77, 3.2, 0.69, 1.49, 2.4, 2.13, 2.43, 1.7, 1.4, 1.8, 1.9, 3.0, 1.252, 2.7, 2.02, 1.63, 1.96, 1.21, 2.45, 1.25, 1.5, 2.62, 1.38, 1.58, 1.85, 1.23, 1.26, 2.16, 2.36, 2.05, 1.32, 1.75, 0.97, 2.9, 2.56, 1.48, 1.74, 1.1, 1.56, 2.03, 1.05, 4.4, 1.29, 1.95, 2.06, 1.12, 1.42, 3.49, 3.35, 2.23, 4.42, 2.69, 2.37, 4.7, 3.6, 2.08, 4.3, 1.68, 1.41, 4.14, 2.18, 2.24, 2.67, 2.14, 1.36, 2.25, 2.15, 2.19, 2.54, 3.42, 1.28, 2.33, 1.45, 2.79, 1.84, 2.6, 2.26, 3.25, 1.59, 1.13, 1.78, 1.15, 1.27, 1.43, 2.31, 1.16, 1.64, 2.17, 1.47, 3.78, 1.79, 0.91, 1.99, 4.33, 1.93, 1.87, 2.63, 3.4, 3.14, 1.94, 1.24, 4.6, 4.5, 2.73, 1.39, 2.29, 2.59, 2.94, 1.14, 3.8, 3.31, 1.09, 3.21, 1.19, 1.98, 1.17, 4.36, 1.71, 2.32, 4.2, 1.55, 0.81, 1.18, 2.72, 1.31, 3.74, 1.76, 1.54, 2.83, 2.07, 2.38, 3.58, 1.08, 2.75, 2.99, 1.11, 2.09, 4.0, 0.99, 3.52, 2.591, 2.21, 3.3, 2.191, 2.34]\n",
      "--------------------------------------------------\n",
      "unique values in column Price_rupees\n",
      "[75023, 50341, 32200, 142097, 101002, 22400, 119838, 64887, 83720, 43120, 22058, 19319, 136638, 27938, 70694, 85039, 41720, 160048, 27944, 54824, 10746, 55944, 14448, 45864, 36904, 23444, 61544, 44800, 72688, 50176, 13719, 11144, 24584, 104664, 55888, 13944, 20552, 27367, 49224, 21784, 83944, 29287, 38192, 79464, 20664, 72744, 35784, 26096, 17864, 47096, 22315, 61768, 21504, 42997, 32827, 137144, 23240, 33544, 52696, 38640, 111048, 24567, 12824, 30744, 53144, 60984, 53480, 48720, 61320, 29064, 47880, 29680, 54712, 61385, 84560, 48160, 22344, 22120, 75544, 39144, 33543, 81144, 92344, 38584, 67032, 66920, 58744, 47432, 33594, 27160, 32312, 69944, 40264, 19544, 36232, 62664, 75040, 23234, 66808, 82880, 70672, 77224, 78344, 40432, 91224, 78343, 60704, 63298, 31584, 62608, 26824, 125524, 35224, 71176, 25256, 14504, 45472, 15567, 78176, 51968, 35783, 25144, 49504, 32032, 33488, 55328, 14132, 52528, 36680, 62497, 48664, 33712, 112784, 19264, 113624, 25032, 69959, 50344, 27888, 105840, 60592, 34664, 73640, 22568, 45080, 40768, 60424, 19488, 100744, 20357, 59387, 47824, 42224, 17304, 27384, 51688, 25704, 156744, 45528, 103544, 44408, 67144, 86744, 134232, 43624, 55384, 60760, 158144, 14560, 55994, 39088, 46984, 51184, 341544, 53704, 58520, 103320, 27608, 41552, 97944, 171080, 78288, 109144, 33432, 78792, 52185, 32984, 57736, 64344, 71624, 37932, 76328, 44464, 137555, 46592, 48105, 43064, 49896, 71064, 22343, 18480, 48104, 21840, 217840, 47376, 64120, 49784, 55160, 31304, 167944, 37800, 114240, 26264, 39312, 24970, 59304, 139944, 95144, 63952, 24864, 36792, 31640, 44744, 26152, 57008, 49280, 109698, 41164, 39932, 47544, 23968, 46424, 32424, 53256, 61432, 66024, 36905, 66472, 102424, 41384, 161552, 82208, 28504, 118832, 36344, 70840, 20159, 110600, 58408, 117544, 15400, 47264, 25754, 54880, 72352, 61264, 50512, 16352, 58794, 74760, 147784, 52808, 74704, 71008, 64064, 15399, 63994, 15394, 40096, 88424, 63224, 15624, 90046, 21000, 37128, 113536, 73024, 78904, 97343, 78568, 54370, 18031, 31213, 79912, 52920, 45304, 98000, 23856, 123144, 48665, 27383, 30968, 16016, 66696, 22596, 92680, 97938, 127792, 76664, 119560, 140504, 58184, 89096, 38863, 43617, 68855, 151872, 147000, 17136, 85624, 64092, 125944, 104888, 97832, 94080, 22904, 17049, 107800, 108808, 44185, 33538, 84000, 30237, 68061, 106344, 64904, 63974, 111944, 16744, 15064, 56560, 136920, 94920, 19432, 133392, 41944, 80024, 24741, 111608, 57553, 144984, 85904, 75320, 114576, 35834, 30464, 24360, 117040, 17024, 42504, 104048, 64624, 71400, 103144, 41440, 134848, 76384, 93632, 32850, 40656, 13938, 130928, 100688, 109200, 56671, 75600, 50338, 51016, 19040, 34663, 89544, 14840, 68544, 34328, 74088, 46816, 68277, 78397, 13720, 29202, 166208, 84224, 71665, 32760, 77112, 168715, 44655, 41209, 44688, 39508, 43960, 25892, 22232, 96824, 62551, 151144, 30472, 71680, 12544, 14280, 31858, 34602, 35280, 110040, 55440, 104215, 46480, 38360, 104440, 149128, 152824, 41945, 56477, 86094, 16520, 131544, 83888, 93688, 34104, 99120, 33768, 29624, 113400, 82544, 93520, 98728, 68264, 37435, 18424, 26040, 128744, 274344, 49225, 24858, 20104, 65408, 31864, 77784, 127000, 21224, 62944, 82040, 43456, 52192, 13384, 26208, 35785, 101920, 106400, 82824, 50771, 98416, 134344, 62104, 29170, 137200, 65464, 25200, 15344, 51464, 145544, 67928, 88704, 39704, 81194, 66741, 20434, 59584, 63560, 66976, 176253, 68824, 23464, 29960, 30184, 83259, 70448, 23072, 104600, 45805, 57904, 72464, 27720, 55882, 114856, 157570, 34306, 30558, 17808, 106847, 145040, 54488, 37464, 105112, 24024, 34801, 44520, 103880, 36681, 16688, 79893, 47996, 67200, 94452, 46850, 204926, 75515, 27434, 33013, 108360, 36400, 53760, 135464, 117291, 23005, 67592, 37240, 85960, 184744, 63096, 245784, 26600, 61376, 47594, 87416, 160663, 58688, 104104, 87304, 26339, 66151, 57120, 69664, 132720, 35616, 162344, 32586, 200973, 131600, 98784, 105896, 74984, 11362, 110320, 65240, 130480, 45360, 115634, 41664, 43680, 94024, 135240, 53816, 44229, 21560, 140281, 42280, 61040, 105000, 76048, 19880, 307944, 66416, 92400, 155379, 18200, 33040, 172082, 50960, 39983, 104720, 34440, 57456, 127512, 48440, 106568, 44072, 143304, 47637, 71960, 56952, 125440, 99568, 59080, 77728, 41160, 94640, 52360, 51100, 95200, 38349, 25519, 76714, 16632, 148344, 82600, 52024, 50400, 34384, 112734, 114744, 109927, 83048, 44184, 67480, 173600, 57063, 49336, 62715, 38359, 72631, 102200, 40874, 39651, 16178, 61880, 93464, 31282, 91784, 154448, 82443, 99400, 81760, 83383, 176624, 43400, 98560, 56504, 100240, 47404, 26075, 46200, 176344, 38920, 156800, 66080, 114794, 56112, 51240, 45136, 66584, 106848, 15155, 64400, 21280, 116984, 70560, 30632, 61599, 58759, 38304, 86184, 89040, 105684, 67760, 43119, 83440, 124824, 44575, 66384, 58601, 59360, 90944, 60480, 68823, 96600, 59525, 56589, 11805, 79800, 58778, 56000, 117787, 82264, 86556, 128239, 16122, 146720, 126224, 39488, 101864, 59920, 55439, 108024, 81648, 222600, 44689, 74424, 72800, 26991, 95955, 30240, 52640, 181440, 36191, 42000, 57735, 21672, 22035, 19375, 45828, 35773, 28000, 63568, 65350, 11704, 79134, 84627, 48552, 22288, 43072, 110264, 153999, 57624, 124656, 73499, 10976, 84728, 29323, 106120, 114821, 15568, 42112, 34496, 221166, 43904, 121616, 136640, 63997, 128629, 56554, 130984, 18984, 126038, 26818, 83597, 44155, 114296, 99064, 26711, 77840, 38024, 73080, 120589, 91672, 46536, 50121, 18648, 50904, 38696, 65128, 74312, 20608, 120400, 15232, 114738, 150080, 109143, 9744, 71232, 82662, 95949, 82712, 29224, 195944, 26265, 89488, 26768, 123099, 41272, 33464, 20261, 89600, 49000, 130200, 32088, 101528, 18144, 60032, 24863, 27440, 50120, 46649, 40824, 16184, 30799, 45135, 40338, 35728, 42784]\n",
      "--------------------------------------------------\n",
      "unique values in column Memory_type\n",
      "['SSD', 'Flash Storage', 'HDD', 'SSD +  1TB HDD', 'SSD +  256GB SSD', 'SSD +  2TB HDD', 'Hybrid', 'SSD +  500GB HDD', 'SSD +  512GB SSD', 'Flash Storage +  1TB HDD', 'HDD +  1TB HDD', 'SSD +  1.0TB Hybrid']\n",
      "--------------------------------------------------\n",
      "unique values in column Memory_in_GB\n",
      "[128, 256, 512, 500, 1000, 32, 64, 2000, 16, 180, 240, 8, 508]\n",
      "--------------------------------------------------\n"
     ]
    }
   ],
   "source": [
    "for i in df.columns:\n",
    "    print(f'unique values in column {i}')\n",
    "    print(df[i].unique().tolist())\n",
    "    print('-'*50)"
   ]
  },
  {
   "cell_type": "code",
   "execution_count": 19,
   "id": "d1ec3257",
   "metadata": {},
   "outputs": [
    {
     "name": "stdout",
     "output_type": "stream",
     "text": [
      "<class 'pandas.core.frame.DataFrame'>\n",
      "RangeIndex: 1564 entries, 0 to 1563\n",
      "Data columns (total 12 columns):\n",
      " #   Column            Non-Null Count  Dtype  \n",
      "---  ------            --------------  -----  \n",
      " 0   Company           1564 non-null   object \n",
      " 1   TypeName          1564 non-null   object \n",
      " 2   Inches            1564 non-null   float64\n",
      " 3   ScreenResolution  1564 non-null   object \n",
      " 4   Cpu               1564 non-null   object \n",
      " 5   Ram_in_GB         1564 non-null   int32  \n",
      " 6   Gpu               1564 non-null   object \n",
      " 7   OpSys             1564 non-null   object \n",
      " 8   Weight            1564 non-null   float64\n",
      " 9   Price_rupees      1564 non-null   int32  \n",
      " 10  Memory_type       1564 non-null   object \n",
      " 11  Memory_in_GB      1564 non-null   int32  \n",
      "dtypes: float64(2), int32(3), object(7)\n",
      "memory usage: 128.4+ KB\n"
     ]
    }
   ],
   "source": [
    "df_final.info()"
   ]
  },
  {
   "cell_type": "markdown",
   "id": "67dae0ef",
   "metadata": {},
   "source": [
    "## Model Building"
   ]
  },
  {
   "cell_type": "markdown",
   "id": "69ea6dc3",
   "metadata": {},
   "source": [
    "### Using Label Encoder to encode Data"
   ]
  },
  {
   "cell_type": "code",
   "execution_count": 20,
   "id": "c7bd7a00",
   "metadata": {},
   "outputs": [],
   "source": [
    "from sklearn.preprocessing import LabelEncoder,StandardScaler,MinMaxScaler \n",
    "from sklearn.model_selection import train_test_split\n",
    "from sklearn.linear_model import LinearRegression\n",
    "from sklearn.tree import DecisionTreeRegressor\n",
    "from sklearn.ensemble import RandomForestRegressor, ExtraTreesRegressor\n",
    "from sklearn.neighbors import KNeighborsRegressor\n",
    "from sklearn.svm import SVR\n",
    "from sklearn.metrics import r2_score, mean_squared_error"
   ]
  },
  {
   "cell_type": "code",
   "execution_count": 21,
   "id": "7120abc6",
   "metadata": {},
   "outputs": [],
   "source": [
    "#To find categorical columns in df\n",
    "df_cat=[]\n",
    "for i in df_final.columns:\n",
    "    if df_final[i].dtype=='O':\n",
    "        df_cat.append(i)"
   ]
  },
  {
   "cell_type": "code",
   "execution_count": 22,
   "id": "470ae6e7",
   "metadata": {},
   "outputs": [],
   "source": [
    "num_cols=[]\n",
    "for i in df_final.columns:\n",
    "    if (df_final[i].dtype=='int32') or (df_final[i].dtype=='float64'):\n",
    "        num_cols.append(i)"
   ]
  },
  {
   "cell_type": "code",
   "execution_count": 23,
   "id": "abf7a9d7",
   "metadata": {},
   "outputs": [],
   "source": [
    "num_cols.remove('Price_rupees')"
   ]
  },
  {
   "cell_type": "code",
   "execution_count": 24,
   "id": "b5ea0bf1",
   "metadata": {},
   "outputs": [],
   "source": [
    "#Label Encoding\n",
    "le=LabelEncoder()\n",
    "for i in df_cat:\n",
    "    df_final[i]=le.fit_transform(df_final[i])"
   ]
  },
  {
   "cell_type": "code",
   "execution_count": 25,
   "id": "5876edd0",
   "metadata": {},
   "outputs": [],
   "source": [
    "#splitting the data into train test\n",
    "X=df_final.drop('Price_rupees',axis=1)\n",
    "y=df_final['Price_rupees']"
   ]
  },
  {
   "cell_type": "code",
   "execution_count": 26,
   "id": "235a8e7d",
   "metadata": {},
   "outputs": [],
   "source": [
    "sc=StandardScaler()\n",
    "X[num_cols]=sc.fit_transform(X[num_cols])"
   ]
  },
  {
   "cell_type": "code",
   "execution_count": 27,
   "id": "b930bf23",
   "metadata": {},
   "outputs": [],
   "source": [
    "xtr=ExtraTreesRegressor(n_estimators=100, random_state=3,  max_features=0.75, max_depth=15)"
   ]
  },
  {
   "cell_type": "code",
   "execution_count": 28,
   "id": "8ecfd078",
   "metadata": {},
   "outputs": [
    {
     "data": {
      "text/html": [
       "<style>#sk-container-id-1 {color: black;background-color: white;}#sk-container-id-1 pre{padding: 0;}#sk-container-id-1 div.sk-toggleable {background-color: white;}#sk-container-id-1 label.sk-toggleable__label {cursor: pointer;display: block;width: 100%;margin-bottom: 0;padding: 0.3em;box-sizing: border-box;text-align: center;}#sk-container-id-1 label.sk-toggleable__label-arrow:before {content: \"▸\";float: left;margin-right: 0.25em;color: #696969;}#sk-container-id-1 label.sk-toggleable__label-arrow:hover:before {color: black;}#sk-container-id-1 div.sk-estimator:hover label.sk-toggleable__label-arrow:before {color: black;}#sk-container-id-1 div.sk-toggleable__content {max-height: 0;max-width: 0;overflow: hidden;text-align: left;background-color: #f0f8ff;}#sk-container-id-1 div.sk-toggleable__content pre {margin: 0.2em;color: black;border-radius: 0.25em;background-color: #f0f8ff;}#sk-container-id-1 input.sk-toggleable__control:checked~div.sk-toggleable__content {max-height: 200px;max-width: 100%;overflow: auto;}#sk-container-id-1 input.sk-toggleable__control:checked~label.sk-toggleable__label-arrow:before {content: \"▾\";}#sk-container-id-1 div.sk-estimator input.sk-toggleable__control:checked~label.sk-toggleable__label {background-color: #d4ebff;}#sk-container-id-1 div.sk-label input.sk-toggleable__control:checked~label.sk-toggleable__label {background-color: #d4ebff;}#sk-container-id-1 input.sk-hidden--visually {border: 0;clip: rect(1px 1px 1px 1px);clip: rect(1px, 1px, 1px, 1px);height: 1px;margin: -1px;overflow: hidden;padding: 0;position: absolute;width: 1px;}#sk-container-id-1 div.sk-estimator {font-family: monospace;background-color: #f0f8ff;border: 1px dotted black;border-radius: 0.25em;box-sizing: border-box;margin-bottom: 0.5em;}#sk-container-id-1 div.sk-estimator:hover {background-color: #d4ebff;}#sk-container-id-1 div.sk-parallel-item::after {content: \"\";width: 100%;border-bottom: 1px solid gray;flex-grow: 1;}#sk-container-id-1 div.sk-label:hover label.sk-toggleable__label {background-color: #d4ebff;}#sk-container-id-1 div.sk-serial::before {content: \"\";position: absolute;border-left: 1px solid gray;box-sizing: border-box;top: 0;bottom: 0;left: 50%;z-index: 0;}#sk-container-id-1 div.sk-serial {display: flex;flex-direction: column;align-items: center;background-color: white;padding-right: 0.2em;padding-left: 0.2em;position: relative;}#sk-container-id-1 div.sk-item {position: relative;z-index: 1;}#sk-container-id-1 div.sk-parallel {display: flex;align-items: stretch;justify-content: center;background-color: white;position: relative;}#sk-container-id-1 div.sk-item::before, #sk-container-id-1 div.sk-parallel-item::before {content: \"\";position: absolute;border-left: 1px solid gray;box-sizing: border-box;top: 0;bottom: 0;left: 50%;z-index: -1;}#sk-container-id-1 div.sk-parallel-item {display: flex;flex-direction: column;z-index: 1;position: relative;background-color: white;}#sk-container-id-1 div.sk-parallel-item:first-child::after {align-self: flex-end;width: 50%;}#sk-container-id-1 div.sk-parallel-item:last-child::after {align-self: flex-start;width: 50%;}#sk-container-id-1 div.sk-parallel-item:only-child::after {width: 0;}#sk-container-id-1 div.sk-dashed-wrapped {border: 1px dashed gray;margin: 0 0.4em 0.5em 0.4em;box-sizing: border-box;padding-bottom: 0.4em;background-color: white;}#sk-container-id-1 div.sk-label label {font-family: monospace;font-weight: bold;display: inline-block;line-height: 1.2em;}#sk-container-id-1 div.sk-label-container {text-align: center;}#sk-container-id-1 div.sk-container {/* jupyter's `normalize.less` sets `[hidden] { display: none; }` but bootstrap.min.css set `[hidden] { display: none !important; }` so we also need the `!important` here to be able to override the default hidden behavior on the sphinx rendered scikit-learn.org. See: https://github.com/scikit-learn/scikit-learn/issues/21755 */display: inline-block !important;position: relative;}#sk-container-id-1 div.sk-text-repr-fallback {display: none;}</style><div id=\"sk-container-id-1\" class=\"sk-top-container\"><div class=\"sk-text-repr-fallback\"><pre>ExtraTreesRegressor(max_depth=15, max_features=0.75, random_state=3)</pre><b>In a Jupyter environment, please rerun this cell to show the HTML representation or trust the notebook. <br />On GitHub, the HTML representation is unable to render, please try loading this page with nbviewer.org.</b></div><div class=\"sk-container\" hidden><div class=\"sk-item\"><div class=\"sk-estimator sk-toggleable\"><input class=\"sk-toggleable__control sk-hidden--visually\" id=\"sk-estimator-id-1\" type=\"checkbox\" checked><label for=\"sk-estimator-id-1\" class=\"sk-toggleable__label sk-toggleable__label-arrow\">ExtraTreesRegressor</label><div class=\"sk-toggleable__content\"><pre>ExtraTreesRegressor(max_depth=15, max_features=0.75, random_state=3)</pre></div></div></div></div></div>"
      ],
      "text/plain": [
       "ExtraTreesRegressor(max_depth=15, max_features=0.75, random_state=3)"
      ]
     },
     "execution_count": 28,
     "metadata": {},
     "output_type": "execute_result"
    }
   ],
   "source": [
    "xtr.fit(X,y)"
   ]
  },
  {
   "cell_type": "code",
   "execution_count": 29,
   "id": "2c04ad92",
   "metadata": {},
   "outputs": [
    {
     "data": {
      "text/plain": [
       "['pkkavla.joblib']"
      ]
     },
     "execution_count": 29,
     "metadata": {},
     "output_type": "execute_result"
    }
   ],
   "source": [
    "from joblib import dump, load\n",
    "dump(xtr, 'pkkavla.joblib')"
   ]
  }
 ],
 "metadata": {
  "kernelspec": {
   "display_name": "Python 3 (ipykernel)",
   "language": "python",
   "name": "python3"
  },
  "language_info": {
   "codemirror_mode": {
    "name": "ipython",
    "version": 3
   },
   "file_extension": ".py",
   "mimetype": "text/x-python",
   "name": "python",
   "nbconvert_exporter": "python",
   "pygments_lexer": "ipython3",
   "version": "3.11.3"
  }
 },
 "nbformat": 4,
 "nbformat_minor": 5
}
